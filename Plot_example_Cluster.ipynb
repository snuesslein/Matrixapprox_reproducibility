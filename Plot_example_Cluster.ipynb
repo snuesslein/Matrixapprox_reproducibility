{
 "cells": [
  {
   "cell_type": "markdown",
   "metadata": {},
   "source": [
    "# Clustering collums and rows\n",
    "\n",
    "The idea is to cluster collumns and rows\n",
    "\n",
    "Here we have the objective function \n",
    "\n"
   ]
  },
  {
   "cell_type": "code",
   "execution_count": null,
   "metadata": {},
   "outputs": [],
   "source": [
    "import numpy as np\n",
    "import tvsclib.utils as utils\n",
    "import Split\n",
    "import matplotlib.pyplot as plt\n",
    "from tvsclib.strict_system import StrictSystem\n",
    "\n",
    "from tvsclib.approximation import Approximation\n",
    "\n",
    "import torchvision.models as models\n",
    "import torch\n",
    "import scipy.stats \n",
    "\n",
    "import scipy.linalg as linalg\n",
    "import plot_permutations as perm\n",
    "\n",
    "import setup_plots\n",
    "import Split_permute as SplitP"
   ]
  },
  {
   "cell_type": "code",
   "execution_count": null,
   "metadata": {},
   "outputs": [],
   "source": [
    "setup_plots.setup()\n",
    "plt.rcParams['figure.dpi'] = 150"
   ]
  },
  {
   "cell_type": "code",
   "execution_count": null,
   "metadata": {},
   "outputs": [],
   "source": [
    "np.random.seed(10000)"
   ]
  },
  {
   "cell_type": "markdown",
   "metadata": {},
   "source": [
    "## Get test matrix"
   ]
  },
  {
   "cell_type": "code",
   "execution_count": null,
   "metadata": {},
   "outputs": [],
   "source": [
    "dims_in =  np.array([4, 4, 4, 4])*4\n",
    "dims_out = np.array([4, 4, 4, 4])*4\n",
    "\n",
    "#dims_in =  np.array([4, 5, 5, 4])*3\n",
    "#dims_out = np.array([5, 4, 4, 5])*3\n",
    "\n",
    "n = 2\n",
    "#create orthogonal vectors and normalize them to the size of the matix (i.e. norm(block)/size(block) = const\n",
    "Us =np.vstack([scipy.stats.ortho_group.rvs(dims_out[i])[:,:3*n]*dims_out[i] for i in range(len(dims_in))])\n",
    "Vts=np.hstack([scipy.stats.ortho_group.rvs(dims_in[i])[:3*n,:]*dims_in[i] for i in range(len(dims_in))])\n",
    "\n",
    "s = np.linspace(1,0.75,n)\n",
    "\n",
    "lower = Us[:,:n]@np.diag(s)@Vts[:n,:]\n",
    "diag = Us[:,n:2*n]@np.diag(s)@Vts[n:2*n,:]\n",
    "upper = Us[:,2*n:3*n]@np.diag(s)@Vts[2*n:3*n,:]\n",
    "matrix = np.zeros_like(diag)\n",
    "a=0;b=0\n",
    "for i in range(len(dims_in)):\n",
    "    matrix[a:a+dims_out[i],:b]            =lower[a:a+dims_out[i],:b]\n",
    "    matrix[a:a+dims_out[i],b:b+dims_in[i]]=diag[a:a+dims_out[i],b:b+dims_in[i]]\n",
    "    matrix[a:a+dims_out[i],b+dims_in[i]:] =upper[a:a+dims_out[i],b+dims_in[i]:]\n",
    "    a+=dims_out[i];b+=dims_in[i]\n",
    "plt.figure()\n",
    "\n",
    "P_in_ref = np.random.permutation(np.arange(matrix.shape[1]))\n",
    "P_out_ref= np.random.permutation(np.arange(matrix.shape[0]))\n",
    "\n",
    "T = matrix[P_out_ref][:,P_in_ref]\n",
    "plt.matshow(T)\n",
    "print(T.shape)"
   ]
  },
  {
   "cell_type": "code",
   "execution_count": null,
   "metadata": {},
   "outputs": [],
   "source": [
    "sys,Ps_col,Ps_row,reports = SplitP.identification_split_permute(T,2,strategy=\"rank\",opts={\"gamma\":1e5})\n",
    "P_col = Ps_col[-1]\n",
    "P_row = Ps_row[-1]\n",
    "utils.check_dims(sys)\n",
    "utils.show_system(sys)"
   ]
  },
  {
   "cell_type": "code",
   "execution_count": null,
   "metadata": {},
   "outputs": [],
   "source": [
    "plt.subplot(1,2,1)\n",
    "plt.scatter(np.arange(len(P_col)),P_col)\n",
    "plt.subplot(1,2,2)\n",
    "plt.scatter(np.arange(len(P_row)),P_row)"
   ]
  },
  {
   "cell_type": "code",
   "execution_count": null,
   "metadata": {},
   "outputs": [],
   "source": [
    "sigmas_causal =[stage.s_in for stage in sys.causal_system.stages][1:]\n",
    "sigmas_anticausal =[stage.s_in for stage in sys.anticausal_system.stages][:-1]\n",
    "#print(sigmas_causal)\n",
    "#print(sigmas_anticausal)\n",
    "plt.subplot(1,2,1)\n",
    "for i,sig in enumerate(sigmas_causal):\n",
    "    plt.scatter(np.arange(len(sig)),sig,label=str(i))\n",
    "plt.legend()\n",
    "plt.subplot(1,2,2)\n",
    "for i,sig in enumerate(sigmas_anticausal):\n",
    "    plt.scatter(np.arange(len(sig)),sig,label=str(i))\n",
    "plt.legend()"
   ]
  },
  {
   "cell_type": "code",
   "execution_count": null,
   "metadata": {},
   "outputs": [],
   "source": [
    "utils.check_dims(sys)\n",
    "np.max(np.abs(T[P_row][:,P_col]-sys.to_matrix()))"
   ]
  },
  {
   "cell_type": "code",
   "execution_count": null,
   "metadata": {},
   "outputs": [],
   "source": [
    "from mpl_toolkits.axes_grid1 import make_axes_locatable\n",
    "\n",
    "w = setup_plots.textwidth*0.7\n",
    "fig, ax = plt.subplots(figsize=(w, w))\n",
    "\n",
    "utils.show_system(sys,ax=ax)\n",
    "y_lim = ax.get_ylim()\n",
    "x_lim = ax.get_xlim()\n",
    "ax.xaxis.set_ticks_position('top')\n",
    "\n",
    "divider = make_axes_locatable(ax)\n",
    "ax_dimsin = divider.append_axes(\"top\", 0.9, pad=0.045, sharex=ax)\n",
    "ax_dimsout = divider.append_axes(\"left\", 0.9, pad=0.045, sharey=ax)\n",
    "\n",
    "# make some labels invisible\n",
    "ax_dimsin.xaxis.set_tick_params(labelbottom=False)\n",
    "ax_dimsout.yaxis.set_tick_params(labelright=False)\n",
    "\n",
    "\n",
    "ax_dimsin.invert_yaxis()\n",
    "\n",
    "cmap = plt.cm.get_cmap('tab20')\n",
    "colors = np.repeat(cmap((1/20)*np.arange(4)+0.001),dims_in,axis=0)[P_in_ref]\n",
    "perm.multiple_connection_plot(perm.invert_permutations(Ps_col),colors=colors,start=0,end=2,ax=ax_dimsin,flipxy=True,linewidth=2.0)\n",
    "\n",
    "colors = np.repeat(cmap((1/20)*np.arange(4)+0.001),dims_out,axis=0)[P_out_ref]\n",
    "perm.multiple_connection_plot(perm.invert_permutations(Ps_row),colors=colors,start=0,end=2,ax=ax_dimsout,linewidth=2.0)\n",
    "\n",
    "\n",
    "ax_dimsout.xaxis.set_ticks_position('top')\n",
    "ax_dimsout.yaxis.set_ticks_position('right')\n",
    "ax_dimsout.yaxis.set_tick_params(labelright=False)\n",
    "\n",
    "\n",
    "ax_dimsin.set_xticks(np.arange(0,4**3+1,16)-0.5)\n",
    "ax_dimsout.set_yticks(np.arange(0,4**3+1,16)-0.5)\n",
    "ax.set_xticklabels([])\n",
    "ax.set_yticklabels([])\n",
    "\n",
    "ax_dimsin.grid()\n",
    "ax_dimsout.grid()\n",
    "ax_dimsout.set_xlim((0,2))\n",
    "ax_dimsin.set_ylim((2,0))   \n",
    "ax.set_ylim(y_lim)\n",
    "ax.set_xlim(x_lim)\n",
    "\n",
    "ax_dimsin.set_yticks(np.arange(0,3))\n",
    "ax_dimsout.set_xticks(np.arange(0,3))\n",
    "ax_dimsin.set_yticklabels([\"$0$\",\"$1$\",r\"\"],zorder=0)\n",
    "ax_dimsout.set_xticklabels([\"$0$\",\"$1$\",r\"$2\\,.$\"],zorder=0)\n",
    "\n",
    "plt.figtext(0.3,0.72,'Iteration',rotation=-45,\\\n",
    "                         horizontalalignment='right', verticalalignment='center',rotation_mode='anchor')\n",
    "\n",
    "plt.savefig(\"example_permute.pdf\",bbox_inches = 'tight',bbox=\"tight\")\n",
    "bbox = fig.get_tightbbox(fig.canvas.get_renderer()) "
   ]
  },
  {
   "cell_type": "code",
   "execution_count": null,
   "metadata": {},
   "outputs": [],
   "source": [
    "bbox.width/w"
   ]
  },
  {
   "cell_type": "code",
   "execution_count": null,
   "metadata": {},
   "outputs": [],
   "source": []
  }
 ],
 "metadata": {
  "kernelspec": {
   "display_name": "Python 3",
   "language": "python",
   "name": "python3"
  },
  "language_info": {
   "codemirror_mode": {
    "name": "ipython",
    "version": 3
   },
   "file_extension": ".py",
   "mimetype": "text/x-python",
   "name": "python",
   "nbconvert_exporter": "python",
   "pygments_lexer": "ipython3",
   "version": "3.7.12"
  }
 },
 "nbformat": 4,
 "nbformat_minor": 4
}

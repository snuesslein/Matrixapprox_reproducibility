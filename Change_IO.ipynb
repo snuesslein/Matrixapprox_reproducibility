{
 "cells": [
  {
   "cell_type": "markdown",
   "metadata": {},
   "source": [
    "# Change Sizes\n",
    "\n",
    "Notebook with implementations of the algorithms to move the boundaries left, right up or down."
   ]
  },
  {
   "cell_type": "code",
   "execution_count": null,
   "metadata": {},
   "outputs": [],
   "source": [
    "from tvsclib.strict_system import StrictSystem\n",
    "from tvsclib.stage import Stage\n",
    "from tvsclib.system_identification_svd import SystemIdentificationSVD\n",
    "from tvsclib.toeplitz_operator import ToeplitzOperator\n",
    "from tvsclib.mixed_system import MixedSystem\n",
    "import tvsclib.utils as utils\n",
    "import numpy as np\n",
    "import matplotlib.pyplot as plt\n",
    "import scipy.linalg as linalg"
   ]
  },
  {
   "cell_type": "markdown",
   "metadata": {},
   "source": [
    "# Define functions\n"
   ]
  },
  {
   "cell_type": "code",
   "execution_count": null,
   "metadata": {},
   "outputs": [],
   "source": [
    "def move_left(sys,v):\n",
    "    #function to move a boundary left \n",
    "    #v is the index to the left of the boundary\n",
    "    \n",
    "    #set the appropirate D_v\n",
    "    sys.stages[v].D_matrix=sys.stages[v].D_matrix[:,:-1]\n",
    "    #extract last collumn of B_v\n",
    "    col = sys.stages[v].B_matrix[:,-1].reshape((-1,1))\n",
    "    sys.stages[v].B_matrix = sys.stages[v].B_matrix[:,:-1]\n",
    "    #set the appropriate D_v+1\n",
    "    sys.stages[v+1].D_matrix=np.hstack((sys.stages[v+1].C_matrix@col,sys.stages[v+1].D_matrix))\n",
    "    sys.stages[v+1].B_matrix=np.hstack((sys.stages[v+1].A_matrix@col,sys.stages[v+1].B_matrix))\n",
    "    \n",
    "    #make it minimal if nececarry\n",
    "    U,s,Vt= np.linalg.svd(np.hstack((sys.stages[v].A_matrix,sys.stages[v].B_matrix)),full_matrices=False)\n",
    "    display(s)\n",
    "    tol = 1e-13\n",
    "\n",
    "    if abs(s[-1])<tol:\n",
    "        #not full rank-> not minimal -> reduce dimentions\n",
    "        print('remove')\n",
    "        sys.stages[v].A_matrix = Vt[:-1,:sys.stages[v].A_matrix.shape[1]]*s[:-1]#TODO: check these multiplications\n",
    "        sys.stages[v].B_matrix = Vt[:-1,sys.stages[v].A_matrix.shape[1]:]*s[:-1]\n",
    "        \n",
    "        sys.stages[v+1].A_matrix=sys.stages[v+1].A_matrix@U[:,:-1]\n",
    "        sys.stages[v+1].C_matrix=sys.stages[v+1].C_matrix@U[:,:-1]"
   ]
  },
  {
   "cell_type": "code",
   "execution_count": null,
   "metadata": {},
   "outputs": [],
   "source": [
    "def move_down(sys,v):\n",
    "    #function to move a boundary down\n",
    "    #v is the index above of the boundary\n",
    "    \n",
    "    #cot row of D_v+1\n",
    "    sys.stages[v+1].D_matrix=sys.stages[v+1].D_matrix[1:,:]\n",
    "    #extract first row of C_v+1\n",
    "    row = sys.stages[v+1].C_matrix[0,:].reshape((1,-1))\n",
    "    sys.stages[v+1].C_matrix = sys.stages[v+1].C_matrix[1:,:]\n",
    "    #set the appropriate D_v and C_v+1\n",
    "    sys.stages[v].D_matrix=np.vstack((sys.stages[v].D_matrix,row@sys.stages[v].B_matrix))\n",
    "    sys.stages[v].C_matrix=np.vstack((sys.stages[v].C_matrix,row@sys.stages[v].A_matrix))\n",
    "    \n",
    "    #make it minimal if nececarry\n",
    "    U,s,Vt= np.linalg.svd(np.vstack((sys.stages[v+1].A_matrix,sys.stages[v+1].C_matrix)),full_matrices=False)\n",
    "    display(U)\n",
    "    display(s)\n",
    "    display(Vt)\n",
    "    tol = 1e-13\n",
    "\n",
    "    if abs(s[-1])<tol:\n",
    "        #not full rank-> not minimal -> reduce dimentions\n",
    "        print('remove')\n",
    "        sys.stages[v+1].A_matrix = U[:sys.stages[v+1].A_matrix.shape[0],:-1]*s[:-1].reshape(-1,1)\n",
    "        sys.stages[v+1].C_matrix = U[sys.stages[v+1].A_matrix.shape[0]:,:-1]*s[:-1].reshape(-1,1)\n",
    "        \n",
    "        sys.stages[v].A_matrix=Vt[:-1,:]@sys.stages[v].A_matrix\n",
    "        sys.stages[v].B_matrix=Vt[:-1,:]@sys.stages[v].B_matrix\n",
    "        "
   ]
  },
  {
   "cell_type": "code",
   "execution_count": null,
   "metadata": {},
   "outputs": [],
   "source": [
    "def move_right(sys,v,d_new=None):\n",
    "    #function to move a boundary left \n",
    "    #v is the index to the left of the boundary\n",
    "    \n",
    "    #first collumn from B and D\n",
    "    b = sys.stages[v+1].B_matrix[:,0].reshape((-1,1))\n",
    "    d = sys.stages[v+1].D_matrix[:,0].reshape((-1,1))\n",
    "    \n",
    "    sys.stages[v+1].B_matrix=sys.stages[v+1].B_matrix[:,1:]\n",
    "    sys.stages[v+1].D_matrix=sys.stages[v+1].D_matrix[:,1:]\n",
    "    \n",
    "    #check if [d;b] in range(C_v+1;Av+1)\n",
    "    U,s,Vt= np.linalg.svd(np.vstack((sys.stages[v+1].C_matrix,sys.stages[v+1].A_matrix)),full_matrices=True)\n",
    "    eps = 1e-13\n",
    "    r = np.count_nonzero(s>=eps)\n",
    "    a = U.T@np.vstack((d,b))\n",
    "    print(\"r=\"+str(r))\n",
    "    display(a)\n",
    "    if np.linalg.norm(a[r:])>eps:\n",
    "        #not in range -> add a ned dimention to the state\n",
    "        sys.stages[v].B_matrix = np.block([\n",
    "            [sys.stages[v].B_matrix,np.zeros((sys.stages[v].B_matrix.shape[0],1))],\n",
    "            [np.zeros((1, sys.stages[v].B_matrix.shape[1])), 1     ]\n",
    "            ])\n",
    "        sys.stages[v].A_matrix = np.vstack((sys.stages[v].A_matrix,np.zeros((1,sys.stages[v].A_matrix.shape[1]))))\n",
    "        sys.stages[v+1].A_matrix = np.hstack((sys.stages[v+1].A_matrix,b))\n",
    "        sys.stages[v+1].C_matrix = np.hstack((sys.stages[v+1].C_matrix,d))\n",
    "        \n",
    "    else:\n",
    "        #in range -> no need for an additional dim\n",
    "        m = Vt.T[:,:r]@(a[:r].flatten()/s[:r])\n",
    "        print(\"m:\")\n",
    "        display(m)\n",
    "        sys.stages[v].B_matrix = np.hstack((sys.stages[v].B_matrix,m.reshape((-1,1))))\n",
    "    \n",
    "    #set the appropirate D_v\n",
    "    if not d_new:\n",
    "        d_new = np.zeros((sys.stages[v].D_matrix.shape[0],1))\n",
    "    sys.stages[v].D_matrix=np.hstack((sys.stages[v].D_matrix,d_new))\n",
    "    "
   ]
  },
  {
   "cell_type": "code",
   "execution_count": null,
   "metadata": {},
   "outputs": [],
   "source": [
    "def move_up(sys,v,d_new=None):\n",
    "    #function to move a boundary up\n",
    "    #v is the index above of the boundary\n",
    "    \n",
    "    #last row from C and D\n",
    "    c = sys.stages[v].C_matrix[-1,:].reshape((1,-1))\n",
    "    d = sys.stages[v].D_matrix[-1,:].reshape((1,-1))\n",
    "    \n",
    "    sys.stages[v].C_matrix=sys.stages[v].C_matrix[:-1,:]\n",
    "    sys.stages[v].D_matrix=sys.stages[v].D_matrix[:-1,:]\n",
    "    \n",
    "    #check if [d;c]^T in range(B_v;A_v)^T\n",
    "    U,s,Vt= np.linalg.svd(np.vstack((sys.stages[v].B_matrix.T,sys.stages[v].A_matrix.T)),full_matrices=True)\n",
    "    eps = 1e-13\n",
    "    r = np.count_nonzero(s>=eps)\n",
    "    a = U.T@np.vstack((d.T,c.T))\n",
    "    print(\"r=\"+str(r))\n",
    "    display(a)\n",
    "    if np.linalg.norm(a[r:])>eps:\n",
    "        #not in range -> add a ned dimention to the state\n",
    "        sys.stages[v+1].C_matrix = np.block([\n",
    "            [np.zeros((1, sys.stages[v+1].C_matrix.shape[1])), 1     ],\n",
    "            [sys.stages[v+1].C_matrix,np.zeros((sys.stages[v+1].C_matrix.shape[0],1))]\n",
    "            ])\n",
    "        sys.stages[v+1].A_matrix = np.hstack((sys.stages[v+1].A_matrix,np.zeros((sys.stages[v+1].A_matrix.shape[0],1))))\n",
    "        sys.stages[v].A_matrix = np.vstack((sys.stages[v].A_matrix,c))\n",
    "        sys.stages[v].B_matrix = np.vstack((sys.stages[v].B_matrix,d))\n",
    "        \n",
    "    else:\n",
    "        #in range -> no need for an additional dim\n",
    "        m = Vt.T[:,:r]@(a[:r].flatten()/s[:r])\n",
    "        print(\"m:\")\n",
    "        display(m)\n",
    "        sys.stages[v+1].C_matrix = np.vstack((m.reshape((1,-1)),sys.stages[v+1].C_matrix))\n",
    "    \n",
    "    #set the appropirate D_v\n",
    "    if not d_new:\n",
    "        d_new = np.zeros((1,sys.stages[v+1].D_matrix.shape[1]))\n",
    "    sys.stages[v+1].D_matrix=np.vstack((d_new,sys.stages[v+1].D_matrix))\n",
    "    "
   ]
  },
  {
   "cell_type": "markdown",
   "metadata": {},
   "source": [
    "# Test the functions"
   ]
  },
  {
   "cell_type": "markdown",
   "metadata": {},
   "source": [
    "## Test them if state dims are constant\n",
    "\n",
    "The represented matrix is Rank 1. This means that the state is always 1-dim."
   ]
  },
  {
   "cell_type": "code",
   "execution_count": null,
   "metadata": {},
   "outputs": [],
   "source": [
    "matrix = np.arange(0,12).reshape((-1,1))@np.arange(0,12).reshape((1,-1))\n",
    "dims_in =  np.array([2, 1, 2, 1])*2\n",
    "dims_out = np.array([1, 2, 1, 2])*2\n",
    "T = ToeplitzOperator(matrix, dims_in, dims_out)\n",
    "S = SystemIdentificationSVD(T,epsilon=1e-12)\n",
    "\n",
    "system = MixedSystem(S).causal_system\n",
    "matrix_ref = system.to_matrix()\n",
    "utils.show_system(system)"
   ]
  },
  {
   "cell_type": "code",
   "execution_count": null,
   "metadata": {},
   "outputs": [],
   "source": [
    "move_right(system,0)\n",
    "utils.check_dims(system)\n",
    "display(system.dims_state)\n",
    "utils.show_system(system)"
   ]
  },
  {
   "cell_type": "code",
   "execution_count": null,
   "metadata": {},
   "outputs": [],
   "source": [
    "move_left(system,0)\n",
    "utils.check_dims(system)\n",
    "display(system.dims_state)\n",
    "utils.show_system(system)\n",
    "\n",
    "print(\"Diff:\",np.max(np.abs(system.to_matrix()-matrix_ref)))"
   ]
  },
  {
   "cell_type": "code",
   "execution_count": null,
   "metadata": {},
   "outputs": [],
   "source": [
    "move_up(system,2)\n",
    "utils.check_dims(system)\n",
    "display(system.dims_state)\n",
    "utils.show_system(system)"
   ]
  },
  {
   "cell_type": "code",
   "execution_count": null,
   "metadata": {},
   "outputs": [],
   "source": [
    "move_down(system,2)\n",
    "utils.check_dims(system)\n",
    "display(system.dims_state)\n",
    "utils.show_system(system)\n",
    "\n",
    "print(\"Diff:\",np.max(np.abs(system.to_matrix()-matrix_ref)))"
   ]
  },
  {
   "cell_type": "markdown",
   "metadata": {},
   "source": [
    "## Check the shifts if the number of states changes"
   ]
  },
  {
   "cell_type": "code",
   "execution_count": null,
   "metadata": {},
   "outputs": [],
   "source": [
    "A = np.random.rand(12,12)\n",
    "Q,R = np.linalg.qr(A)\n",
    "\n",
    "\n",
    "matrix = np.zeros((12,12))\n",
    "matrix[:,:]=(Q[:,:4]@np.array([1,1,0,0])).reshape(-1,1)\n",
    "matrix[:,4:6]=(Q[:,:4]@np.array([1,1,0.1,0])).reshape(-1,1)\n",
    "#plt.imshow(matrix)\n",
    "\n",
    "\n",
    "dims_in =  np.array([2, 1, 2, 1])*2\n",
    "dims_out = np.array([1, 2, 1, 2])*2\n",
    "T = ToeplitzOperator(matrix, dims_in, dims_out)\n",
    "S = SystemIdentificationSVD(T,epsilon=1e-12)\n",
    "system = MixedSystem(S).causal_system\n",
    "\n",
    "matrix_ref = system.to_matrix()\n",
    "utils.show_system(system)\n",
    "system.dims_state"
   ]
  },
  {
   "cell_type": "code",
   "execution_count": null,
   "metadata": {},
   "outputs": [],
   "source": [
    "move_right(system,0)\n",
    "utils.check_dims(system)\n",
    "display(system.dims_state)\n",
    "utils.show_system(system)"
   ]
  },
  {
   "cell_type": "code",
   "execution_count": null,
   "metadata": {},
   "outputs": [],
   "source": [
    "move_left(system,0)\n",
    "utils.check_dims(system)\n",
    "display(system.dims_state)\n",
    "utils.show_system(system)\n",
    "print(\"Diff:\",np.max(np.abs(system.to_matrix()-matrix_ref)))"
   ]
  },
  {
   "cell_type": "code",
   "execution_count": null,
   "metadata": {},
   "outputs": [],
   "source": [
    "A = np.random.rand(12,12)\n",
    "Q,R = np.linalg.qr(A)\n",
    "\n",
    "\n",
    "matrix = np.zeros((12,12))\n",
    "matrix[:,:]=(Q[:,:4]@np.array([1,1,0,0])).reshape(-1,1)\n",
    "matrix[:,4:6]=(Q[:,:4]@np.array([1,1,0.1,0])).reshape(-1,1)\n",
    "#plt.imshow(matrix)\n",
    "matrix = matrix.T\n",
    "\n",
    "dims_in =  np.array([2, 1, 2, 1])*2\n",
    "dims_out = np.array([1, 2, 1, 2])*2\n",
    "T = ToeplitzOperator(matrix, dims_in, dims_out)\n",
    "S = SystemIdentificationSVD(T,epsilon=1e-12)\n",
    "system = MixedSystem(S).causal_system\n",
    "\n",
    "matrix_ref = system.to_matrix()\n",
    "utils.show_system(system)\n",
    "system.dims_state"
   ]
  },
  {
   "cell_type": "code",
   "execution_count": null,
   "metadata": {},
   "outputs": [],
   "source": [
    "move_up(system,1)\n",
    "utils.check_dims(system)\n",
    "display(system.dims_state)\n",
    "utils.show_system(system)"
   ]
  },
  {
   "cell_type": "code",
   "execution_count": null,
   "metadata": {},
   "outputs": [],
   "source": [
    "move_down(system,1)\n",
    "utils.check_dims(system)\n",
    "display(system.dims_state)\n",
    "utils.show_system(system)\n",
    "print(\"Diff:\",np.max(np.abs(system.to_matrix()-matrix_ref)))"
   ]
  },
  {
   "cell_type": "markdown",
   "metadata": {},
   "source": [
    "# Combine and Split"
   ]
  },
  {
   "cell_type": "code",
   "execution_count": null,
   "metadata": {},
   "outputs": [],
   "source": [
    "def combine(sys,v,D_new = 0):\n",
    "    #function that combnines the timestep v with the following timestep\n",
    "    if not D_new:\n",
    "        D_new=np.zeros((sys.stages[v].D_matrix.shape[0],sys.stages[v+1].D_matrix.shape[1]))\n",
    "    sys.stages[v].D_matrix= np.block([\n",
    "            [sys.stages[v].D_matrix                         , D_new    ],\n",
    "            [sys.stages[v+1].C_matrix@sys.stages[v].B_matrix,  sys.stages[v+1].D_matrix]\n",
    "            ])\n",
    "    sys.stages[v].B_matrix=np.hstack((sys.stages[v+1].A_matrix@sys.stages[v].B_matrix,sys.stages[v+1].B_matrix))\n",
    "    sys.stages[v].C_matrix=np.vstack((sys.stages[v].C_matrix,sys.stages[v+1].C_matrix@sys.stages[v].A_matrix))\n",
    "    sys.stages[v].A_matrix = sys.stages[v+1].A_matrix@sys.stages[v].A_matrix\n",
    "    \n",
    "    del sys.stages[v+1]\n",
    "    "
   ]
  },
  {
   "cell_type": "code",
   "execution_count": null,
   "metadata": {},
   "outputs": [],
   "source": [
    "def split(sys,v,indices=(-1,-1),tol = 5e-15):\n",
    "    #function that splits the timestep v in two timesteps\n",
    "    #the parameter indices determine how to split the output and input\n",
    "    #indices[0]: last row in the first step\n",
    "    #indices[1]: last collumn in the first timestep\n",
    "    \n",
    "    if indices[0]<0:\n",
    "        indices[0] = np.floor(sys.stages[v].D_matrix.shape[0]/2)\n",
    "    if indices[1]<0:\n",
    "        indices[1] = np.floor(sys.stages[v].D_matrix.shape[1]/2)        \n",
    "    \n",
    "    U,s,Vt= np.linalg.svd(np.block([\n",
    "            [sys.stages[v].A_matrix,sys.stages[v].B_matrix[:,:indices[1]]],\n",
    "            [sys.stages[v].C_matrix[indices[0]:,:],sys.stages[v].D_matrix[indices[0]:,:indices[1]]]\n",
    "            ]))\n",
    "    \n",
    "    n_in = sys.stages[v].A_matrix.shape[1] #dims of state bevore and after\n",
    "    n_out = sys.stages[v].A_matrix.shape[0]\n",
    "    display(s)\n",
    "    n = np.count_nonzero(s>tol)\n",
    "    print(\"n:\",n)\n",
    "    \n",
    "    rs = np.sqrt(s)\n",
    "    Us=U*rs\n",
    "    sVt=Vt*rs.reshape(-1,1)\n",
    "    stage_a=Stage(sVt[:n,:n_in],\n",
    "                  sVt[:n,n_in:],\n",
    "                  sys.stages[v].C_matrix[:indices[0],:],\n",
    "                  sys.stages[v].D_matrix[:indices[0],:indices[1]])\n",
    "    stage_b=Stage(Us[:n_out,:n],\n",
    "                  sys.stages[v].B_matrix[:,indices[1]:],\n",
    "                  Us[n_out:,:n],\n",
    "                  sys.stages[v].D_matrix[indices[0]:,indices[1]:])\n",
    "    \n",
    "    sys.stages.insert(v,stage_a)\n",
    "    sys.stages[v+1]=stage_b\n",
    "    "
   ]
  },
  {
   "cell_type": "markdown",
   "metadata": {},
   "source": [
    "## Test the function"
   ]
  },
  {
   "cell_type": "code",
   "execution_count": null,
   "metadata": {},
   "outputs": [],
   "source": [
    "matrix = np.array([\n",
    "        [5,     4,     6,     1,     4,     2],\n",
    "        [2,     3,     2,     1,     3,     4],\n",
    "        [6,     3,     5,     4,     1,     1],\n",
    "        [3,     5,     5,     5,     3,     4],\n",
    "        [2,     4,     3,     6,     1,     2],\n",
    "        [2,     4,     4,     1,     5,     4]\n",
    "])\n",
    "matrix = np.vstack((np.hstack((matrix,matrix)),np.hstack((matrix,matrix))))\n",
    "\n",
    "dims_in =  np.array([2, 1, 2, 1])*2\n",
    "dims_out = np.array([1, 2, 1, 2])*2\n",
    "T = ToeplitzOperator(matrix, dims_in, dims_out)\n",
    "S = SystemIdentificationSVD(T,epsilon=1e-12)\n",
    "\n",
    "system = MixedSystem(S).causal_system\n"
   ]
  },
  {
   "cell_type": "code",
   "execution_count": null,
   "metadata": {},
   "outputs": [],
   "source": [
    "utils.show_system(system)"
   ]
  },
  {
   "cell_type": "code",
   "execution_count": null,
   "metadata": {},
   "outputs": [],
   "source": [
    "combine(system,1)\n",
    "utils.check_dims(system)\n",
    "display(system.dims_state)\n",
    "utils.show_system(system)"
   ]
  },
  {
   "cell_type": "code",
   "execution_count": null,
   "metadata": {},
   "outputs": [],
   "source": [
    "split(system,1,indices=(4,2))\n",
    "utils.check_dims(system)\n",
    "display(system.dims_state)\n",
    "utils.show_system(system)"
   ]
  },
  {
   "cell_type": "markdown",
   "metadata": {},
   "source": [
    "Make a rank1 matrix and add an off point to make the rank change, if it is included."
   ]
  },
  {
   "cell_type": "code",
   "execution_count": null,
   "metadata": {},
   "outputs": [],
   "source": [
    "matrix = np.arange(0,12).reshape((-1,1))@np.arange(0,12).reshape((1,-1))\n",
    "matrix[6,5]=10\n",
    "dims_in =  np.array([2, 1, 2, 1])*2\n",
    "dims_out = np.array([1, 2, 1, 2])*2\n",
    "T = ToeplitzOperator(matrix, dims_in, dims_out)\n",
    "S = SystemIdentificationSVD(T,epsilon=1e-12)\n",
    "\n",
    "system = MixedSystem(S).causal_system\n",
    "utils.show_system(system)\n",
    "\n",
    "matrix_ref = system.to_matrix()\n",
    "display(system.dims_state)"
   ]
  },
  {
   "cell_type": "code",
   "execution_count": null,
   "metadata": {},
   "outputs": [],
   "source": [
    "combine(system,1)\n",
    "utils.check_dims(system)\n",
    "display(system.dims_state)\n",
    "utils.show_system(system)"
   ]
  },
  {
   "cell_type": "code",
   "execution_count": null,
   "metadata": {},
   "outputs": [],
   "source": [
    "split(system,1,indices=(4,2))\n",
    "utils.check_dims(system)\n",
    "display(system.dims_state)\n",
    "utils.show_system(system)\n",
    "\n",
    "print(\"Diff:\",np.max(np.abs(system.to_matrix()-matrix_ref)))"
   ]
  }
 ],
 "metadata": {
  "kernelspec": {
   "display_name": "Python 3",
   "language": "python",
   "name": "python3"
  },
  "language_info": {
   "codemirror_mode": {
    "name": "ipython",
    "version": 3
   },
   "file_extension": ".py",
   "mimetype": "text/x-python",
   "name": "python",
   "nbconvert_exporter": "python",
   "pygments_lexer": "ipython3",
   "version": "3.7.12"
  }
 },
 "nbformat": 4,
 "nbformat_minor": 4
}

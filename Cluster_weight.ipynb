{
 "cells": [
  {
   "cell_type": "markdown",
   "metadata": {},
   "source": [
    "# Clustering to reduce $\\|H\\|_F$\n",
    "\n",
    "The idea is to cluster collumns and rows\n",
    "\n",
    "Here we have the objective function \n",
    "\n"
   ]
  },
  {
   "cell_type": "code",
   "execution_count": null,
   "metadata": {},
   "outputs": [],
   "source": [
    "import numpy as np\n",
    "import tvsclib.utils as utils\n",
    "import Split\n",
    "import matplotlib.pyplot as plt\n",
    "from tvsclib.strict_system import StrictSystem\n",
    "\n",
    "from tvsclib.approximation import Approximation\n",
    "\n",
    "import torchvision.models as models\n",
    "import torch\n",
    "import scipy.stats \n",
    "\n",
    "import graphs\n",
    "\n",
    "import scipy.linalg as linalg\n",
    "\n",
    "import plot_permutations as perm\n",
    "import setup_plots\n",
    "from mpl_toolkits.axes_grid1 import make_axes_locatable\n",
    "\n",
    "import Split\n",
    "import Split_permute as SplitP"
   ]
  },
  {
   "cell_type": "code",
   "execution_count": null,
   "metadata": {},
   "outputs": [],
   "source": [
    "setup_plots.setup()\n",
    "plt.rcParams['figure.dpi'] = 150"
   ]
  },
  {
   "cell_type": "code",
   "execution_count": null,
   "metadata": {},
   "outputs": [],
   "source": [
    "def get_mobilenet_target_mats():\n",
    "    target_mats = []\n",
    "    # Load the model\n",
    "    model = models.mobilenet_v2(pretrained=True)\n",
    "    # Put moel into eval mode\n",
    "    model.eval()\n",
    "    for layer in model.classifier:\n",
    "        if isinstance(layer, torch.nn.Linear):\n",
    "            # Obtain the weights of this layer\n",
    "            weights = layer.weight.detach().numpy()\n",
    "            target_mats.append(weights)\n",
    "    return target_mats"
   ]
  },
  {
   "cell_type": "markdown",
   "metadata": {},
   "source": [
    "# Weight matrix form Mobilenet"
   ]
  },
  {
   "cell_type": "code",
   "execution_count": null,
   "metadata": {},
   "outputs": [],
   "source": [
    "T = get_mobilenet_target_mats()[0]"
   ]
  },
  {
   "cell_type": "code",
   "execution_count": null,
   "metadata": {},
   "outputs": [],
   "source": [
    "sys = Split.identification_split_system(T,3)\n",
    "utils.check_dims(sys)\n",
    "utils.show_system(sys)\n",
    "sys.dims_out"
   ]
  },
  {
   "cell_type": "code",
   "execution_count": null,
   "metadata": {},
   "outputs": [],
   "source": [
    "sys_per,Ps_col,Ps_row,reports = SplitP.identification_split_permute(T,3,strategy=\"fro\",\\\n",
    "            opts=[{\"gamma\":9e5,\"N\":200},{\"gamma\":9e5,\"N\":200},{\"gamma\":9e5,\"N\":200}])\n",
    "utils.check_dims(sys_per)\n",
    "utils.show_system(sys_per)"
   ]
  },
  {
   "cell_type": "code",
   "execution_count": null,
   "metadata": {},
   "outputs": [],
   "source": [
    "w = setup_plots.textwidth\n",
    "fig, ax = plt.subplots(figsize=(w, w))\n",
    "\n",
    "utils.show_system(sys_per,ax=ax)\n",
    "y_lim = ax.get_ylim()\n",
    "x_lim = ax.get_xlim()\n",
    "ax.xaxis.set_ticks_position('top')\n",
    "\n",
    "divider = make_axes_locatable(ax)\n",
    "ax_dimsin = divider.append_axes(\"top\", 1.1, pad=0.1, sharex=ax)\n",
    "ax_dimsout = divider.append_axes(\"left\", 1.1, pad=0.1, sharey=ax)\n",
    "\n",
    "# make some labels invisible\n",
    "ax_dimsin.xaxis.set_tick_params(labelbottom=False)\n",
    "ax_dimsout.yaxis.set_tick_params(labelright=False)\n",
    "\n",
    "\n",
    "ax_dimsin.invert_yaxis()\n",
    "\n",
    "cmap = plt.cm.get_cmap(\"rainbow\")\n",
    "colors = cmap(np.linspace(0,0.9,Ps_col.shape[1]))\n",
    "perm.multiple_connection_plot(perm.invert_permutations(Ps_col),start=0,end=3,ax=ax_dimsin,N=20,flipxy=True,linewidth=0.25,colors=colors)\n",
    "colors = cmap(np.linspace(0,0.9,Ps_row.shape[1]))\n",
    "perm.multiple_connection_plot(perm.invert_permutations(Ps_row),start=0,end=3,ax=ax_dimsout,N=20,linewidth=0.2,colors=colors)\n",
    "\n",
    "\n",
    "ax_dimsout.xaxis.set_ticks_position('top')\n",
    "ax_dimsout.yaxis.set_ticks_position('right')\n",
    "ax_dimsout.yaxis.set_tick_params(labelright=False)\n",
    "\n",
    "ax_dimsin.set_yticks(np.arange(1,4))\n",
    "ax_dimsout.set_xticks(np.arange(1,4))\n",
    "\n",
    "ax_dimsin.set_xticks(np.cumsum(sys_per.dims_in))\n",
    "ax_dimsout.set_yticks(np.cumsum(sys_per.dims_out))\n",
    "ax.set_xticklabels([])\n",
    "ax.set_yticklabels([])\n",
    "\n",
    "ax_dimsin.grid()\n",
    "ax_dimsout.grid()\n",
    "ax_dimsout.set_xlim((0,3))\n",
    "ax_dimsin.set_ylim((3,0))  \n",
    "ax.set_ylim(y_lim)\n",
    "ax.set_xlim(x_lim)\n",
    "\n",
    "ax_dimsin.set_yticks(np.arange(0,4))\n",
    "ax_dimsout.set_xticks(np.arange(0,4))\n",
    "ax_dimsin.set_yticklabels([\"$0$\",\"$1$\",\"$2$\",r\"\"],zorder=0)\n",
    "ax_dimsout.set_xticklabels([\"$0$\",\"$1$\",\"$1$\",r\"$3\\,.$\"],zorder=0) \n",
    "\n",
    "ax.text(0,0,r'Iteration$\\qquad\\quad$.',rotation=-45,\\\n",
    "                 horizontalalignment='right', verticalalignment='center',rotation_mode='anchor')\n",
    "\n",
    "plt.savefig(\"Mobilenet_permute.pdf\",bbox_inches = 'tight',bbox=\"tight\")\n",
    "bbox = fig.get_tightbbox(fig.canvas.get_renderer()) "
   ]
  },
  {
   "cell_type": "code",
   "execution_count": null,
   "metadata": {},
   "outputs": [],
   "source": [
    "bbox.width/w"
   ]
  },
  {
   "cell_type": "code",
   "execution_count": null,
   "metadata": {
    "scrolled": true
   },
   "outputs": [],
   "source": [
    "sigmas_causal_per =[stage.s_in for stage in sys_per.causal_system.stages][1:]\n",
    "sigmas_anticausal_per =[stage.s_in for stage in sys_per.anticausal_system.stages][:-1]\n",
    "\n",
    "sigmas_causal =[stage.s_in for stage in sys.causal_system.stages][1:]\n",
    "sigmas_anticausal =[stage.s_in for stage in sys.anticausal_system.stages][:-1]\n",
    "\n",
    "plt.figure(figsize=[12,8])\n",
    "\n",
    "plt.subplot(1,2,1)\n",
    "plt.grid()\n",
    "for sig in sigmas_causal:\n",
    "    plt.plot(np.arange(len(sig)),sig,color='C0')\n",
    "for sig in sigmas_causal_per:\n",
    "    plt.plot(np.arange(len(sig)),sig,color='C1')\n",
    "plt.subplot(1,2,2)\n",
    "for sig in sigmas_anticausal:\n",
    "    plt.plot(np.arange(len(sig)),sig,color='C0')\n",
    "for sig in sigmas_anticausal_per:\n",
    "    plt.plot(np.arange(len(sig)),sig,color='C1')\n",
    "plt.grid()\n"
   ]
  },
  {
   "cell_type": "code",
   "execution_count": null,
   "metadata": {},
   "outputs": [],
   "source": [
    "T_per = T[Ps_row[-1]][:,Ps_col[-1]]\n",
    "np.max(np.abs(T_per-sys_per.to_matrix()))"
   ]
  },
  {
   "cell_type": "code",
   "execution_count": null,
   "metadata": {},
   "outputs": [],
   "source": [
    "eps_max = max([np.max(sig)for sig in sigmas_causal]+[np.max(sig)for sig in sigmas_anticausal])\n",
    "print(eps_max)"
   ]
  },
  {
   "cell_type": "code",
   "execution_count": null,
   "metadata": {},
   "outputs": [],
   "source": [
    "approx =Approximation(sys,(sigmas_causal,sigmas_anticausal))\n",
    "approx_per=Approximation(sys_per,(sigmas_causal_per,sigmas_anticausal_per))\n",
    "\n",
    "\n",
    "N = 9 #number of points\n",
    "#N = 18 #number of points\n",
    "alpha = np.linspace(0,1,N)\n",
    "\n",
    "err_move =np.zeros_like(alpha)\n",
    "\n",
    "eps = eps_max*alpha\n",
    "\n",
    "def calc_values(approx,eps,matrix):\n",
    "    costs =np.zeros_like(eps)\n",
    "    err =np.zeros_like(eps)\n",
    "    for i in range(len(eps)):\n",
    "        approx_system=approx.get_approxiamtion(eps[i])\n",
    "        matrix_approx = approx_system.to_matrix()\n",
    "        err[i] = np.linalg.norm(matrix_approx-matrix,ord=2)\n",
    "        costs[i] = approx_system.cost()\n",
    "    return err,costs\n",
    "\n",
    "err_orig,cost_orig = calc_values(approx,eps,T)\n",
    "err_per,cost_per = calc_values(approx_per,eps,T_per)"
   ]
  },
  {
   "cell_type": "code",
   "execution_count": null,
   "metadata": {},
   "outputs": [],
   "source": [
    "w = 0.75*setup_plots.textwidth\n",
    "fig, ax = plt.subplots(figsize=(w, 2/3*w))\n",
    "plt.plot(cost_orig,err_orig,'1-',label='Regular system')\n",
    "plt.plot(cost_per,err_per,'2--',label='Permuted system')\n",
    "ylims = ax.get_ylim()\n",
    "plt.vlines(T.size,ylims[0],ylims[1],colors='0.4')\n",
    "ax.ticklabel_format(axis='x',scilimits=(0,0))\n",
    "ax.set_ylim(ylims)\n",
    "plt.grid()\n",
    "plt.legend()\n",
    "\n",
    "i = np.argmin(np.abs(alpha-0.25))\n",
    "#plt.scatter([cost_orig[i],cost_move[i]],[err_orig[i],err_move[i]])\n",
    "\n",
    "\n",
    "plt.xlabel(\"Number of multiplications\")\n",
    "plt.ylabel(r'$\\| M-\\tilde{T} \\| $')\n",
    "\n",
    "zoom_h = 1\n",
    "zoom_w = 3e5\n",
    "s = 5.2\n",
    "axins = ax.inset_axes([0.45, 0.2,s*zoom_w/4e6,s*zoom_h/10])\n",
    "\n",
    "axins.grid()\n",
    "axins.plot(cost_orig,err_orig,'1-')\n",
    "axins.plot(cost_per,err_per,'2--')\n",
    "\n",
    "axins.set_xlim(cost_orig[i]-0.5*zoom_w, cost_orig[i]+0.5*zoom_w)\n",
    "axins.set_ylim(err_orig[i]-0.5*zoom_h, err_orig[i]+0.5*zoom_h)\n",
    "axins.set_xticklabels([])\n",
    "axins.set_yticklabels([])\n",
    "\n",
    "\n",
    "text = ax.text(cost_orig[0]-3e5,err_orig[0]+0.7, r'$\\epsilon = 0$',\n",
    "                  bbox={'facecolor': 'white',\"edgecolor\":\"black\", 'alpha': 0.5, 'pad': 0,\"linewidth\":0})\n",
    "text = ax.text(cost_orig[-1]+1.1e5,err_orig[-1]-.5, r'$\\epsilon = \\|M\\|_H$',\n",
    "                  bbox={'facecolor': 'white',\"edgecolor\":\"black\", 'alpha': 0.5, 'pad': 0,\"linewidth\":0})\n",
    "\n",
    "\n",
    "ax.indicate_inset_zoom(axins, edgecolor=\"black\")\n",
    "axins.text(cost_orig[i]-0.15*zoom_w,err_orig[i]+0.3*zoom_h, r'$\\epsilon = \\frac{1}{4} \\|M\\|_H$',\n",
    "          bbox={'facecolor': 'white',\"edgecolor\":\"black\", 'alpha': 0.5, 'pad': 0,\"linewidth\":0})\n",
    "plt.savefig(\"perm_example_mobilenet_error.pdf\",bbox=\"tight\",bbox_inches = 'tight')\n",
    "bbox = plt.gcf().get_tightbbox( plt.gcf().canvas.get_renderer()) \n",
    "print(bbox.width/setup_plots.textwidth)"
   ]
  },
  {
   "cell_type": "code",
   "execution_count": null,
   "metadata": {},
   "outputs": [],
   "source": [
    "i = 2\n",
    "print(\"alpha=\",alpha[i])\n",
    "print(\"eps=\",eps[i])\n",
    "print(\"Cost original=\",cost_orig[i])\n",
    "print(\"Cost new=\",cost_per[i])\n",
    "print(\"Cost new/Cost orig=\",cost_per[i]/cost_orig[i])"
   ]
  },
  {
   "cell_type": "code",
   "execution_count": null,
   "metadata": {},
   "outputs": [],
   "source": [
    "n = 2\n",
    "print(\"eps * K = \",eps[n]*len(sys.dims_in))\n",
    "print(\"err =\",err_orig[n])"
   ]
  },
  {
   "cell_type": "code",
   "execution_count": null,
   "metadata": {},
   "outputs": [],
   "source": [
    "plt.spy(reports[0][\"s_rows\"])"
   ]
  },
  {
   "cell_type": "code",
   "execution_count": null,
   "metadata": {},
   "outputs": [],
   "source": [
    "sys_apr_quater = approx.get_approxiamtion(eps[i])\n",
    "sys_apr_quater_per = approx_per.get_approxiamtion(eps[i])\n",
    "print(eps[i])\n",
    "\n",
    "\n",
    "dims_state_ref = [sys_apr_quater.causal_system.dims_state,sys_apr_quater.anticausal_system.dims_state]\n",
    "dims_state = [sys_apr_quater_per.causal_system.dims_state,sys_apr_quater_per.anticausal_system.dims_state]\n",
    "\n",
    "x = np.arange(len(dims_state[0]))  # the label locations\n",
    "width = 0.35  # the width of the bars\n",
    "\n",
    "w = setup_plots.textwidth\n",
    "fig, axes = plt.subplots(2,1,figsize=(w, w/2),sharex=True)\n",
    "for v in [0,1]:\n",
    "    ax =axes[v]\n",
    "    if v ==0:\n",
    "        label = ['Regular',None]\n",
    "        ax.set_ylabel(r\"$d$\")\n",
    "    else:\n",
    "        label = [None,'Permuted']\n",
    "        ax.set_ylabel(r\"$d^*$\")\n",
    "    rects1 = ax.bar(x - width/2, dims_state_ref[v], width, label=label[0])\n",
    "    rects2 = ax.bar(x + width/2, dims_state[v], width, label=label[1])\n",
    "    ax.grid()\n",
    "    ax.set_ylim(0,105)\n",
    "    if v ==0:\n",
    "        ax.bar(0,0,label=r\"$\\Sigma =\"+str(np.sum(dims_state_ref))+\"$\",color = \"w\")\n",
    "        ax.bar(0,0,label=\" \",color = \"w\")\n",
    "    else:\n",
    "        ax.bar(0,0,label=r\"$\\Sigma =\"+str(np.sum(dims_state))+\"$\",color = \"w\")#linewidth=0    \n",
    "\n",
    "ax.set_xlim(0.4,7.6)\n",
    "ax.set_xlabel(r\"$k$\")\n",
    "\n",
    "fig.legend(loc='center right')\n",
    "plt.subplots_adjust(right=0.75)\n",
    "\n",
    "plt.savefig(\"perm_example_mobilenet_state_dims.pdf\",bbox=\"tight\",bbox_inches = 'tight')\n",
    "bbox = plt.gcf().get_tightbbox( plt.gcf().canvas.get_renderer()) \n",
    "print(bbox.width/setup_plots.textwidth)"
   ]
  },
  {
   "cell_type": "code",
   "execution_count": null,
   "metadata": {},
   "outputs": [],
   "source": [
    "dim_sum = np.sum(dims_state,axis=0)\n",
    "dim_sum_ref = np.sum(dims_state_ref,axis=0)\n",
    "print(dim_sum,np.sum(dim_sum))\n",
    "print(dim_sum_ref,np.sum(dim_sum_ref))"
   ]
  },
  {
   "cell_type": "code",
   "execution_count": null,
   "metadata": {},
   "outputs": [],
   "source": [
    "plt.figure(figsize = (4,2*len(reports)))\n",
    "for i,report in enumerate(reports):\n",
    "    plt.subplot(len(reports),1,i+1)\n",
    "    plt.plot(report[\"f\"])\n"
   ]
  },
  {
   "cell_type": "markdown",
   "metadata": {},
   "source": [
    "## Average values of Blocks"
   ]
  },
  {
   "cell_type": "code",
   "execution_count": null,
   "metadata": {},
   "outputs": [],
   "source": [
    "# Elemetwise square:\n",
    "M = T_per**2\n",
    "\n",
    "dims_in_cum = np.hstack(([0],np.cumsum(sys_per.dims_in)))\n",
    "dims_out_cum = np.hstack(([0],np.cumsum(sys_per.dims_out)))\n",
    "K = len(sys_per.dims_in)\n",
    "for k in range(K):\n",
    "    for l in range(K):\n",
    "        v = np.sum(M[dims_out_cum[k]:dims_out_cum[k+1],dims_in_cum[l]:dims_in_cum[l+1]])/M[dims_out_cum[k]:dims_out_cum[k+1],dims_in_cum[l]:dims_in_cum[l+1]].size\n",
    "        #print(v)\n",
    "        M[dims_out_cum[k]:dims_out_cum[k+1],dims_in_cum[l]:dims_in_cum[l+1]]=v\n",
    "                \n",
    "                         \n",
    "plt.matshow(M)\n",
    "plt.colorbar()"
   ]
  },
  {
   "cell_type": "code",
   "execution_count": null,
   "metadata": {},
   "outputs": [],
   "source": [
    "np.sum(T**2)/T.size"
   ]
  },
  {
   "cell_type": "code",
   "execution_count": null,
   "metadata": {},
   "outputs": [],
   "source": [
    "frob_causal = []\n",
    "frob_anticausal = []\n",
    "K = len(sys.dims_in)\n",
    "for k in range(1,K):\n",
    "    frob_causal.append(np.linalg.norm(T[np.sum(sys.dims_out)-np.sum(sys.dims_out[k:]):,:np.sum(sys.dims_in[:k])]))\n",
    "for k in range(0,K-1):\n",
    "    frob_anticausal.append(np.linalg.norm(T[:np.sum(sys.dims_out[:k+1]),np.sum(sys.dims_in)-np.sum(sys.dims_in[k+1:]):]))\n",
    "\n",
    "frob_causal_per = []\n",
    "frob_anticausal_per = []\n",
    "K = len(sys.dims_in)\n",
    "for k in range(1,K):\n",
    "    frob_causal_per.append(np.linalg.norm(T_per[np.sum(sys_per.dims_out)-np.sum(sys_per.dims_out[k:]):,:np.sum(sys_per.dims_in[:k])]))\n",
    "for k in range(0,K-1):\n",
    "    frob_anticausal_per.append(np.linalg.norm(T_per[:np.sum(sys_per.dims_out[:k+1]),np.sum(sys_per.dims_in)-np.sum(sys_per.dims_in[k+1:]):]))\n"
   ]
  },
  {
   "cell_type": "code",
   "execution_count": null,
   "metadata": {},
   "outputs": [],
   "source": [
    "plt.subplot(2,1,1)\n",
    "plt.plot(frob_causal)\n",
    "plt.plot(frob_causal_per)\n",
    "plt.subplot(2,1,2)\n",
    "plt.plot(frob_anticausal)\n",
    "plt.plot(frob_anticausal_per)"
   ]
  },
  {
   "cell_type": "markdown",
   "metadata": {},
   "source": [
    "# Alexnet"
   ]
  },
  {
   "cell_type": "code",
   "execution_count": null,
   "metadata": {},
   "outputs": [],
   "source": [
    "def get_AlexNet_target_mats():\n",
    "    target_mats = []\n",
    "    # Load the model\n",
    "    model = models.alexnet(pretrained=True)\n",
    "    # Put moel into eval mode\n",
    "    model.eval()\n",
    "    for layer in model.classifier:\n",
    "        if isinstance(layer, torch.nn.Linear):\n",
    "            # Obtain the weights of this layer\n",
    "            weights = layer.weight.detach().numpy()\n",
    "            target_mats.append(weights)\n",
    "    return target_mats\n",
    "mat_AlexNet = get_AlexNet_target_mats()[0]"
   ]
  },
  {
   "cell_type": "code",
   "execution_count": null,
   "metadata": {},
   "outputs": [],
   "source": [
    "T = mat_AlexNet"
   ]
  },
  {
   "cell_type": "code",
   "execution_count": null,
   "metadata": {},
   "outputs": [],
   "source": [
    "sys = Split.identification_split_system(T,4,epsilon=1e-3)\n",
    "utils.check_dims(sys)"
   ]
  },
  {
   "cell_type": "code",
   "execution_count": null,
   "metadata": {},
   "outputs": [],
   "source": [
    "sys_per,Ps_col,Ps_row,reports = SplitP.identification_split_permute(T,4,epsilon=1e-3,strategy=\"fro\",\\\n",
    "            opts=[{\"gamma\":6e3,\"N\":100},{\"gamma\":6e3,\"N\":100},{\"gamma\":6e3,\"N\":100},{\"gamma\":6e3,\"N\":100}])\n",
    "utils.check_dims(sys_per)"
   ]
  },
  {
   "cell_type": "code",
   "execution_count": null,
   "metadata": {},
   "outputs": [],
   "source": [
    "utils.show_system(sys_per)"
   ]
  },
  {
   "cell_type": "raw",
   "metadata": {},
   "source": [
    "w = setup_plots.textwidth\n",
    "fig, ax = plt.subplots(figsize=(w, w))\n",
    "\n",
    "utils.show_system(sys_per,ax=ax)\n",
    "y_lim = ax.get_ylim()\n",
    "x_lim = ax.get_xlim()\n",
    "ax.xaxis.set_ticks_position('top')\n",
    "\n",
    "divider = make_axes_locatable(ax)\n",
    "ax_dimsin = divider.append_axes(\"top\", 1.3, pad=0.1, sharex=ax)\n",
    "ax_dimsout = divider.append_axes(\"left\", 1.3, pad=0.1, sharey=ax)\n",
    "\n",
    "# make some labels invisible\n",
    "ax_dimsin.xaxis.set_tick_params(labelbottom=False)\n",
    "ax_dimsout.yaxis.set_tick_params(labelright=False)\n",
    "\n",
    "\n",
    "ax_dimsin.invert_yaxis()\n",
    "\n",
    "perm.multiple_connection_plot(perm.invert_permutations(Ps_col),start=0,end=4,N=20,ax=ax_dimsin,flipxy=True,linewidth=0.1)\n",
    "perm.multiple_connection_plot(perm.invert_permutations(Ps_row),start=0,end=4,N=20,ax=ax_dimsout,linewidth=0.05)\n",
    "\n",
    "\n",
    "ax_dimsout.xaxis.set_ticks_position('top')\n",
    "ax_dimsout.yaxis.set_ticks_position('right')\n",
    "ax_dimsout.yaxis.set_tick_params(labelright=False)\n",
    "\n",
    "ax_dimsin.set_yticks(np.arange(1,5))\n",
    "ax_dimsout.set_xticks(np.arange(1,5))\n",
    "\n",
    "ax_dimsin.set_xticks(np.cumsum(sys_per.dims_in))\n",
    "ax_dimsout.set_yticks(np.cumsum(sys_per.dims_out))\n",
    "ax.set_xticklabels([])\n",
    "ax.set_yticklabels([])\n",
    "\n",
    "ax_dimsin.grid()\n",
    "ax_dimsout.grid()\n",
    "ax_dimsout.set_xlim((0,4))\n",
    "ax_dimsin.set_ylim((4,0))   \n",
    "ax.set_ylim(y_lim)\n",
    "ax.set_xlim(x_lim)\n",
    "ax.text(0,0,r'Iteration$\\qquad\\quad$.',rotation=-45,\\\n",
    "                 horizontalalignment='right', verticalalignment='center',rotation_mode='anchor')\n",
    "\n",
    "plt.savefig(\"alexnet_permute.pdf\",bbox_inches = 'tight',bbox=\"tight\")\n",
    "bbox = fig.get_tightbbox(fig.canvas.get_renderer()) "
   ]
  },
  {
   "cell_type": "raw",
   "metadata": {},
   "source": [
    "bbox.width/w"
   ]
  },
  {
   "cell_type": "code",
   "execution_count": null,
   "metadata": {
    "scrolled": true
   },
   "outputs": [],
   "source": [
    "sigmas_causal_per =[stage.s_in for stage in sys_per.causal_system.stages][1:]\n",
    "sigmas_anticausal_per =[stage.s_in for stage in sys_per.anticausal_system.stages][:-1]\n",
    "\n",
    "sigmas_causal =[stage.s_in for stage in sys.causal_system.stages][1:]\n",
    "sigmas_anticausal =[stage.s_in for stage in sys.anticausal_system.stages][:-1]\n",
    "\n",
    "plt.figure(figsize=[12,8])\n",
    "\n",
    "plt.subplot(1,2,1)\n",
    "plt.grid()\n",
    "for sig in sigmas_causal:\n",
    "    plt.plot(np.arange(len(sig)),sig,color='C0')\n",
    "for sig in sigmas_causal_per:\n",
    "    plt.plot(np.arange(len(sig)),sig,color='C1')\n",
    "plt.subplot(1,2,2)\n",
    "for sig in sigmas_anticausal:\n",
    "    plt.plot(np.arange(len(sig)),sig,color='C0')\n",
    "for sig in sigmas_anticausal_per:\n",
    "    plt.plot(np.arange(len(sig)),sig,color='C1')\n",
    "plt.grid()\n"
   ]
  },
  {
   "cell_type": "code",
   "execution_count": null,
   "metadata": {},
   "outputs": [],
   "source": [
    "T_per = T[Ps_row[-1]][:,Ps_col[-1]]\n",
    "np.max(np.abs(T_per-sys_per.to_matrix()))"
   ]
  },
  {
   "cell_type": "code",
   "execution_count": null,
   "metadata": {},
   "outputs": [],
   "source": [
    "eps_max = max([np.max(sig)for sig in sigmas_causal]+[np.max(sig)for sig in sigmas_anticausal])\n",
    "print(eps_max)"
   ]
  },
  {
   "cell_type": "code",
   "execution_count": null,
   "metadata": {},
   "outputs": [],
   "source": [
    "approx =Approximation(sys,(sigmas_causal,sigmas_anticausal))\n",
    "approx_per=Approximation(sys_per,(sigmas_causal_per,sigmas_anticausal_per))\n",
    "\n",
    "\n",
    "N = 9 #number of points\n",
    "#N = 18 #number of points\n",
    "alpha = np.linspace(0,1,N)\n",
    "\n",
    "err_move =np.zeros_like(alpha)\n",
    "\n",
    "eps = eps_max*alpha\n",
    "\n",
    "def calc_values(approx,eps,matrix):\n",
    "    costs =np.zeros_like(eps)\n",
    "    err =np.zeros_like(eps)\n",
    "    for i in range(len(eps)):\n",
    "        approx_system=approx.get_approxiamtion(eps[i])\n",
    "        matrix_approx = approx_system.to_matrix()\n",
    "        err[i] = np.linalg.norm(matrix_approx-matrix,ord=2)\n",
    "        costs[i] = approx_system.cost()\n",
    "    return err,costs\n",
    "\n",
    "err_orig,cost_orig = calc_values(approx,eps,T)\n",
    "err_per,cost_per = calc_values(approx_per,eps,T_per)"
   ]
  },
  {
   "cell_type": "code",
   "execution_count": null,
   "metadata": {},
   "outputs": [],
   "source": [
    "plt.plot(cost_orig,err_orig,label=\"orig\")\n",
    "plt.plot(cost_per,err_per,label=\"per\")\n",
    "plt.legend()\n",
    "plt.grid()"
   ]
  },
  {
   "cell_type": "code",
   "execution_count": null,
   "metadata": {},
   "outputs": [],
   "source": [
    "i = 2\n",
    "print(\"alpha=\",alpha[i])\n",
    "print(\"eps=\",eps[i])\n",
    "print(\"Cost original=\",cost_orig[i])\n",
    "print(\"Cost new=\",cost_per[i])\n",
    "print(\"Cost new/Cost orig=\",cost_per[i]/cost_orig[i])"
   ]
  },
  {
   "cell_type": "code",
   "execution_count": null,
   "metadata": {},
   "outputs": [],
   "source": [
    "print(eps[2])"
   ]
  },
  {
   "cell_type": "code",
   "execution_count": null,
   "metadata": {},
   "outputs": [],
   "source": [
    "cost_orig[2]"
   ]
  },
  {
   "cell_type": "code",
   "execution_count": null,
   "metadata": {},
   "outputs": [],
   "source": [
    "cost_per[2]"
   ]
  },
  {
   "cell_type": "code",
   "execution_count": null,
   "metadata": {},
   "outputs": [],
   "source": [
    "i = 2\n",
    "print(alpha[i])\n",
    "print((1-cost_per[i]/cost_orig[i]),\"%\")"
   ]
  },
  {
   "cell_type": "code",
   "execution_count": null,
   "metadata": {},
   "outputs": [],
   "source": [
    "plt.plot(alpha,cost_per/cost_orig)\n",
    "plt.grid()"
   ]
  },
  {
   "cell_type": "code",
   "execution_count": null,
   "metadata": {},
   "outputs": [],
   "source": [
    "eps[2]"
   ]
  },
  {
   "cell_type": "code",
   "execution_count": null,
   "metadata": {
    "scrolled": true
   },
   "outputs": [],
   "source": [
    "plt.figure(figsize = (4,2*len(reports)))\n",
    "for i,report in enumerate(reports):\n",
    "    plt.subplot(len(reports),1,i+1)\n",
    "    plt.plot(report[\"f\"])\n"
   ]
  },
  {
   "cell_type": "code",
   "execution_count": null,
   "metadata": {},
   "outputs": [],
   "source": [
    "print(sys.dims_in)\n",
    "print(sys_per.dims_in)"
   ]
  },
  {
   "cell_type": "code",
   "execution_count": null,
   "metadata": {},
   "outputs": [],
   "source": [
    "print(sys.dims_out)\n",
    "print(sys_per.dims_out)"
   ]
  },
  {
   "cell_type": "code",
   "execution_count": null,
   "metadata": {},
   "outputs": [],
   "source": []
  },
  {
   "cell_type": "code",
   "execution_count": null,
   "metadata": {},
   "outputs": [],
   "source": [
    "sum(np.eye(5))"
   ]
  },
  {
   "cell_type": "code",
   "execution_count": null,
   "metadata": {},
   "outputs": [],
   "source": [
    "np.array([[sum(np.eye(5))]]).shape"
   ]
  },
  {
   "cell_type": "code",
   "execution_count": null,
   "metadata": {},
   "outputs": [],
   "source": [
    "len(sys.dims_in)"
   ]
  },
  {
   "cell_type": "code",
   "execution_count": null,
   "metadata": {},
   "outputs": [],
   "source": [
    "utils.save_system(sys,'AlexNet/system_ref_perm.npz',sigmas=(sigmas_causal,sigmas_anticausal))\n",
    "utils.save_system(sys_per,'AlexNet/system_perm.npz',sigmas=(sigmas_causal_per,sigmas_anticausal_per))\n",
    "\n",
    "#approx =Approximation(sys,(sigmas_causal,sigmas_anticausal))\n",
    "#approx_per=Approximation(sys_per,(sigmas_causal_per,sigmas_anticausal_per))\n",
    "\n",
    "np.savez('AlexNet/data_per.npz',err_orig=err_orig,cost_orig=cost_orig,err_per=err_per,\\\n",
    "            cost_per=cost_per,\\\n",
    "            Ps_col=Ps_col,Ps_row=Ps_row)\n",
    "        \n",
    "#err_orig,cost_orig = calc_values(approx,eps,T)\n",
    "#err_per,cost_per = calc_values(approx_per,eps,T_per)"
   ]
  },
  {
   "cell_type": "code",
   "execution_count": null,
   "metadata": {},
   "outputs": [],
   "source": [
    "P"
   ]
  }
 ],
 "metadata": {
  "kernelspec": {
   "display_name": "Python 3",
   "language": "python",
   "name": "python3"
  },
  "language_info": {
   "codemirror_mode": {
    "name": "ipython",
    "version": 3
   },
   "file_extension": ".py",
   "mimetype": "text/x-python",
   "name": "python",
   "nbconvert_exporter": "python",
   "pygments_lexer": "ipython3",
   "version": "3.7.12"
  }
 },
 "nbformat": 4,
 "nbformat_minor": 4
}

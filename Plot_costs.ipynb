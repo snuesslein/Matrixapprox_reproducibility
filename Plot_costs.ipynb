{
 "cells": [
  {
   "cell_type": "code",
   "execution_count": null,
   "metadata": {},
   "outputs": [],
   "source": [
    "import sympy as sp\n",
    "sp.init_printing()\n",
    "import numpy as np\n",
    "import matplotlib.pyplot as plt\n",
    "import setup_plots\n",
    "import matplotlib.patheffects as path_effects\n",
    "import torchvision.models as models\n",
    "import torch\n"
   ]
  },
  {
   "cell_type": "code",
   "execution_count": null,
   "metadata": {},
   "outputs": [],
   "source": [
    "setup_plots.setup()"
   ]
  },
  {
   "cell_type": "code",
   "execution_count": null,
   "metadata": {},
   "outputs": [],
   "source": [
    "plt.rcParams['figure.dpi'] = 200"
   ]
  },
  {
   "cell_type": "code",
   "execution_count": null,
   "metadata": {},
   "outputs": [],
   "source": [
    "colors=plt.rcParams['axes.prop_cycle'].by_key()['color']"
   ]
  },
  {
   "cell_type": "code",
   "execution_count": null,
   "metadata": {},
   "outputs": [],
   "source": [
    "def get_mobilenet_target_mats():\n",
    "    target_mats = []\n",
    "    # Load the model\n",
    "    model = models.mobilenet_v2(pretrained=True)\n",
    "    # Put moel into eval mode\n",
    "    model.eval()\n",
    "    for layer in model.classifier:\n",
    "        if isinstance(layer, torch.nn.Linear):\n",
    "            # Obtain the weights of this layer\n",
    "            weights = layer.weight.detach().numpy()\n",
    "            target_mats.append(weights)\n",
    "    return target_mats\n",
    "mats = get_mobilenet_target_mats()[0]"
   ]
  },
  {
   "cell_type": "code",
   "execution_count": null,
   "metadata": {},
   "outputs": [],
   "source": [
    "def calc_sigmas_Hankel(A,K):\n",
    "    \n",
    "    d_in = A.shape[1]\n",
    "    boundaries = d_in/K*np.arange(1,K)\n",
    "    boundaries_in = np.round(boundaries).astype(int)\n",
    "    #print(\"d_in\",d_in)\n",
    "    #print(\"bounds_in\",boundaries_in)\n",
    "\n",
    "    d_out = A.shape[0]\n",
    "    boundaries = d_out/K*np.arange(1,K)\n",
    "    boundaries_out = np.round(boundaries).astype(int)\n",
    "    #print(\"d_out\",d_out)\n",
    "    #print(\"bounds_out\",boundaries_out)\n",
    "    \n",
    "    sigmas = []\n",
    "    for i in range(K-1):\n",
    "        sigmas.append(np.linalg.svd(A[boundaries_out[i]:,:boundaries_in[i]],compute_uv=False))\n",
    "    return sigmas\n",
    "    \n",
    "K = 20\n",
    "sigmas = calc_sigmas_Hankel(mats,K)"
   ]
  },
  {
   "cell_type": "code",
   "execution_count": null,
   "metadata": {},
   "outputs": [],
   "source": [
    "w = setup_plots.textwidth\n",
    "#plt.figure(figsize = [w,w*3/4])\n",
    "fig, ax = plt.subplots(figsize = [w,w*2/4])\n",
    "\n",
    "max_sigmas = max([np.max(sig) for sig in sigmas])\n",
    "\n",
    "[P,M] = mats.shape\n",
    "\n",
    "alphas = [0.4,0.5,0.6]\n",
    "gammas = [0.13,0.05,0.02]\n",
    "\n",
    "plt.plot([],[],label=r\"Approximation\")\n",
    "ax.set_prop_cycle(None) #reset cycler\n",
    "x = np.linspace(0,20)\n",
    "for i,gamma in enumerate(gammas):\n",
    "    d = gamma*(K-x)*(x)*P*M/((K**2)*min(P,M))\n",
    "    plt.plot(x,d,color=colors[i],alpha=0.5,\n",
    "            label=r\"$\\gamma = {g:.2F}$\".format(g=gamma))\n",
    "\n",
    "plt.plot([],[],label=r\"Actual $d$\")\n",
    "x = np.arange(21)\n",
    "for i, alpha in enumerate(alphas):\n",
    "    eps = alpha*max_sigmas\n",
    "    d =[np.count_nonzero(sig>eps) for sig in sigmas]\n",
    "    d.append(0)\n",
    "    d.insert(0,0)\n",
    "    plt.scatter(x,np.array(d),marker=str(i+1),color=colors[i],\n",
    "             label=r\"$\\alpha = {a:.2F}$\".format(a=alpha))\n",
    "    #marker=(5, 2, 0) #\n",
    "\n",
    "\n",
    "\n",
    "plt.grid()\n",
    "plt.xlabel(r\"$k$\")\n",
    "plt.ylabel(r\"$d_k$\")\n",
    "\n",
    "legend = fig.legend(loc='center right',ncol=2,columnspacing=0.3,handletextpad=0.4)#handlelength=1.5\n",
    "#legend = plt.legend(loc='center left', bbox_to_anchor=(1.0, 0.5),ncol=2,columnspacing=1)\n",
    "\n",
    "\n",
    "legend.get_children()[0].get_children()[1].get_children()[0].get_children()[0].get_children()[0].width=-6\n",
    "legend.get_children()[0].get_children()[1].get_children()[0].get_children()[0].get_children()[0].get_children()[1].set(visible=False)\n",
    "legend.get_children()[0].get_children()[1].get_children()[0].get_children()[0].get_children()[0].get_children()[0].set(visible=False)\n",
    "legend.get_children()[0].get_children()[1].get_children()[1].get_children()[0].get_children()[0].width=5\n",
    "legend.get_children()[0].get_children()[1].get_children()[1].get_children()[0].get_children()[0].get_children()[1].set(visible=False)\n",
    "legend.get_children()[0].get_children()[1].get_children()[1].get_children()[0].get_children()[0].get_children()[0].set(visible=False)\n",
    "\n",
    "#legend.get_children()[0].get_children()[1].get_children()[0].get_children()[0].get_children()[1].set(text=\"Approx\")\n",
    "plt.subplots_adjust(right=0.63)\n",
    "plt.savefig(\"approx_degree.pdf\",bbox=\"tight\",bbox_inches='tight')"
   ]
  },
  {
   "cell_type": "markdown",
   "metadata": {},
   "source": [
    "# Some helping function\n",
    "\n",
    "Transform the sum into a polynomial\n",
    "\n",
    "calcaultes $$\\sum^N_{n=1} arg(n) $$  for $$arg = \\sum_{p=0}^5 a_p n^p$$"
   ]
  },
  {
   "cell_type": "code",
   "execution_count": null,
   "metadata": {},
   "outputs": [],
   "source": [
    "def transfrom_sum(arg,n,N,n_start=None):\n",
    "    #Take a sum consisting of polynomilas in n and calcualtes the overall polynomial using the Faulhabersche_Formel\n",
    "    #Knuth https://arxiv.org/abs/math/9207222\n",
    "    #calcaultes $$\\sum^N_{n=1} exp$$  for $$exp = \\sum_{p=0}^5 a_p n^p$$\n",
    "    #Parameters:\n",
    "    #    arg:   expression in the sum\n",
    "    #    n:     running variable\n",
    "    #    N:     upper end of sum\n",
    "    #returns:\n",
    "    # expression \n",
    "    arg = arg.expand().collect(n)\n",
    "    expression = 0\n",
    "    for i in range(6):\n",
    "        #faulhaber coeffs form: https://de.wikipedia.org/wiki/Faulhabersche_Formel \n",
    "        #look below for more details\n",
    "        coeffs = {0:N,\n",
    "              1:1/sp.S(2)*N**2+1/sp.S(2)*N,\n",
    "              2:1/sp.S(3)*N**3+1/sp.S(2)*N**2+1/sp.S(6)*N,\n",
    "              3:1/sp.S(4)*N**4+1/sp.S(2)*N**3+1/sp.S(4)*N**2,\n",
    "              4:1/sp.S(5)*N**5+1/sp.S(2)*N**4+1/sp.S(3)*N**3-1/sp.S(30)*N,\n",
    "              5:1/sp.S(6)*N**6+1/sp.S(2)*N**5+5/sp.S(12)*N**4-1/sp.S(12)*N**2}\n",
    "\n",
    "\n",
    "        expression = expression + (arg.coeff(n,i))*coeffs[i] \n",
    "        if n_start:\n",
    "            expression = expression - (arg.coeff(n,i))*coeffs[i].subs({N:n_start-1})\n",
    "            #display((arg.coeff(n,i))*coeffs[i].subs({N:n_start-1}))\n",
    "    #test for higher orders\n",
    "    for i in range(6,100):\n",
    "        if arg.coeff(n,i) !=0:\n",
    "            raise NotImplementedError(\"n^\"+str(i)+\" is not implemented\")\n",
    "    return expression"
   ]
  },
  {
   "cell_type": "code",
   "execution_count": null,
   "metadata": {},
   "outputs": [],
   "source": [
    "K,m,p,M,P = sp.symbols('K m p M P',positive=True)\n",
    "N = sp.symbols('N',positive=True) #for square matrix\n",
    "dk,dk1 = sp.symbols('d_k d_{k+1}',positive=True)\n",
    "gamma = sp.symbols('gamma',positive=True)\n",
    "k = sp.symbols('k')\n",
    "\n",
    "cost =2*dk1*dk+2*dk1*M/K+2*P/K*dk+P*M/K**2"
   ]
  },
  {
   "cell_type": "code",
   "execution_count": null,
   "metadata": {},
   "outputs": [],
   "source": [
    "d_prod = gamma*(K-k+1)*(k-1)*P*M/(K**2*N).subs(N,M) #here N is min(M,P)\n",
    "d_prod_k = d_prod\n",
    "d_prod_k1 = d_prod.subs(k,k+1)\n",
    "\n",
    "arg_prod = cost.subs({dk:d_prod_k,dk1:d_prod_k1})\n",
    "arg_prod"
   ]
  },
  {
   "cell_type": "code",
   "execution_count": null,
   "metadata": {},
   "outputs": [],
   "source": [
    "cost_total_prod = transfrom_sum(arg_prod,k,K)"
   ]
  },
  {
   "cell_type": "code",
   "execution_count": null,
   "metadata": {},
   "outputs": [],
   "source": [
    "cost_of_K = cost_total_prod.expand().collect(K)\n",
    "cost_of_K"
   ]
  },
  {
   "cell_type": "code",
   "execution_count": null,
   "metadata": {},
   "outputs": [],
   "source": [
    "sp.pycode(cost_of_K)"
   ]
  },
  {
   "cell_type": "code",
   "execution_count": null,
   "metadata": {},
   "outputs": [],
   "source": [
    "cost_of_K.subs(K,1)"
   ]
  },
  {
   "cell_type": "markdown",
   "metadata": {},
   "source": [
    "Now set for square matrix"
   ]
  },
  {
   "cell_type": "code",
   "execution_count": null,
   "metadata": {},
   "outputs": [],
   "source": [
    "cost_total_prod=cost_total_prod.subs({M:N,P:N}).expand().collect(K)\n",
    "cost_total_prod"
   ]
  },
  {
   "cell_type": "code",
   "execution_count": null,
   "metadata": {},
   "outputs": [],
   "source": [
    "w = 0.75*setup_plots.textwidth\n",
    "fig, ax = plt.subplots(figsize = [w,w*3/4])\n",
    "col = '#1f77b4' #'#ff7f0e'\n",
    "ax.set_xscale('log',basex=2)\n",
    "ax.set_yscale('log',basey=10)\n",
    "xmin = 0.8\n",
    "xmax = 2**10\n",
    "ymin = 10**3.8\n",
    "ymax = 10**8\n",
    "\n",
    "map_x = lambda x : np.log2(x/xmin)/np.log2(xmax/xmin)\n",
    "map_y = lambda y: np.log10(y/ymin)/np.log10(ymax/ymin)\n",
    "\n",
    "pos_x = np.array([2**7.8,2**8.2,2**7.8,2**7,2**6,2**5])\n",
    "\n",
    "\n",
    "def annotoate(xs,ys,text,x,dy_dx=1):\n",
    "    i = np.count_nonzero(xs<x)#index of the first point to the right\n",
    "    y = (x-xs[i])/(xs[i-1]-xs[i])*ys[i-1]+(x-xs[i-1])/(xs[i]-xs[i-1])*ys[i] \n",
    "    text = ax.text(\n",
    "    x,\n",
    "    y,\n",
    "    text,\n",
    "    rotation=np.arctan((ys[i]-ys[i-1])/(xs[i]-xs[i-1])*dy_dx)*180/np.pi,\n",
    "    size=\"small\",\n",
    "    bbox=dict(facecolor=\"white\", edgecolor=\"None\", alpha=0.85,boxstyle=\"square\",pad=0.1,mutation_aspect=-2),\n",
    "    color=col,\n",
    "    ha=\"center\",\n",
    "    va=\"center\",\n",
    "    transform=ax.transAxes\n",
    "    )\n",
    "\n",
    "f = sp.lambdify([K,(N,gamma)],cost_total_prod)\n",
    "Ks = 2**np.arange(11)\n",
    "Ks_sub = 2**np.linspace(0,11,40)\n",
    "Nn = Ks[-1]\n",
    "for n,gamma_tilde in enumerate(np.round(np.logspace(-2,0,6),2)):\n",
    "    costs= f(Ks,(1024,gamma_tilde))\n",
    "    plt.plot(Ks,costs,label=r\"$\\gamma = {g:.2F}$\".format(g=gamma_tilde),color=col,linestyle='-')\n",
    "    i = np.argmin(costs)\n",
    "    plt.plot(Ks[i],costs[i],marker='o',markerfacecolor = \"white\",color=col)\n",
    "    annotoate(map_x(Ks_sub),map_y(f(Ks_sub,(1024,gamma_tilde))),r\"$\\gamma = \"+str(gamma_tilde)+r\"$\".format(g=gamma_tilde),map_x(pos_x[n]),dy_dx=1/1.5)\n",
    "\n",
    "    \n",
    "plt.grid()\n",
    "plt.hlines(Nn**2,0,2**10,linewidth=1)\n",
    "locs, labels = plt.xticks()\n",
    "plt.xlim([xmin,xmax])\n",
    "plt.ylim([ymin,ymax])\n",
    "\n",
    "plt.xlabel(\"$K$\")\n",
    "plt.ylabel(\"Approximated Cost\")\n",
    "\n",
    "plt.savefig(\"cost_parameters.pdf\",bbox=\"tight\")"
   ]
  },
  {
   "cell_type": "code",
   "execution_count": null,
   "metadata": {},
   "outputs": [],
   "source": []
  }
 ],
 "metadata": {
  "kernelspec": {
   "display_name": "Python 3",
   "language": "python",
   "name": "python3"
  },
  "language_info": {
   "codemirror_mode": {
    "name": "ipython",
    "version": 3
   },
   "file_extension": ".py",
   "mimetype": "text/x-python",
   "name": "python",
   "nbconvert_exporter": "python",
   "pygments_lexer": "ipython3",
   "version": "3.7.12"
  }
 },
 "nbformat": 4,
 "nbformat_minor": 4
}
